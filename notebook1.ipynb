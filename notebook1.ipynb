{
 "cells": [
  {
   "cell_type": "code",
   "execution_count": 1,
   "metadata": {
    "_cell_guid": "b1076dfc-b9ad-4769-8c92-a6c4dae69d19",
    "_uuid": "8f2839f25d086af736a60e9eeb907d3b93b6e0e5",
    "execution": {
     "iopub.execute_input": "2022-09-05T06:48:11.523281Z",
     "iopub.status.busy": "2022-09-05T06:48:11.522770Z",
     "iopub.status.idle": "2022-09-05T06:48:12.692537Z",
     "shell.execute_reply": "2022-09-05T06:48:12.691317Z",
     "shell.execute_reply.started": "2022-09-05T06:48:11.523177Z"
    }
   },
   "outputs": [],
   "source": [
    "# This Python 3 environment comes with many helpful analytics libraries installed\n",
    "# It is defined by the kaggle/python Docker image: https://github.com/kaggle/docker-python\n",
    "# For example, here's several helpful packages to load\n",
    "\n",
    "import numpy as np # linear algebra\n",
    "import pandas as pd # data processing, CSV file I/O (e.g. pd.read_csv)\n",
    "import seaborn as sns\n",
    "import matplotlib.pyplot as plt\n",
    "\n",
    "# import os\n",
    "# for dirname, _, filenames in os.walk('/kaggle/input'):\n",
    "#     for filename in filenames:\n",
    "#         print(os.path.join(dirname, filename))\n",
    "\n",
    "# You can write up to 20GB to the current directory (/kaggle/working/) that gets preserved as output when you create a version using \"Save & Run All\" \n",
    "# You can also write temporary files to /kaggle/temp/, but they won't be saved outside of the current session"
   ]
  },
  {
   "cell_type": "markdown",
   "metadata": {},
   "source": [
    "For large datasets, it is better to use shell commands to retrieve the train database. "
   ]
  },
  {
   "cell_type": "code",
   "execution_count": 2,
   "metadata": {
    "execution": {
     "iopub.execute_input": "2022-09-05T06:48:16.778601Z",
     "iopub.status.busy": "2022-09-05T06:48:16.778083Z",
     "iopub.status.idle": "2022-09-05T06:48:18.565726Z",
     "shell.execute_reply": "2022-09-05T06:48:18.564660Z",
     "shell.execute_reply.started": "2022-09-05T06:48:16.778561Z"
    }
   },
   "outputs": [],
   "source": [
    "## check if GPU is available and use it; otherwise use CPU\n",
    "import torch\n",
    "device = torch.device(\"cuda:0\" if torch.cuda.is_available() else \"cpu\")\n",
    "# device = torch.device(\"cpu\")\n",
    "device"
   ]
  },
  {
   "cell_type": "code",
   "execution_count": null,
   "metadata": {
    "execution": {
     "iopub.execute_input": "2022-09-05T06:48:18.569084Z",
     "iopub.status.busy": "2022-09-05T06:48:18.568084Z",
     "iopub.status.idle": "2022-09-05T06:51:46.024136Z",
     "shell.execute_reply": "2022-09-05T06:51:46.023178Z",
     "shell.execute_reply.started": "2022-09-05T06:48:18.569038Z"
    }
   },
   "outputs": [],
   "source": [
    "%%time\n",
    "sub_df= pd.read_csv('sample_submission.csv')\n",
    "test_df= pd.read_csv('test.csv')\n",
    "df= pd.read_csv('input/train.csv')\n",
    "df.sample(5)"
   ]
  },
  {
   "cell_type": "code",
   "execution_count": 4,
   "metadata": {
    "execution": {
     "iopub.execute_input": "2022-09-05T06:51:46.026036Z",
     "iopub.status.busy": "2022-09-05T06:51:46.025366Z",
     "iopub.status.idle": "2022-09-05T06:51:47.526475Z",
     "shell.execute_reply": "2022-09-05T06:51:47.525056Z",
     "shell.execute_reply.started": "2022-09-05T06:51:46.026003Z"
    }
   },
   "outputs": [],
   "source": [
    "data_dir = '../input/new-york-city-taxi-fare-prediction'\n",
    "!ls -lh {data_dir}"
   ]
  },
  {
   "cell_type": "code",
   "execution_count": 5,
   "metadata": {
    "execution": {
     "iopub.execute_input": "2022-09-05T06:51:47.531445Z",
     "iopub.status.busy": "2022-09-05T06:51:47.530632Z",
     "iopub.status.idle": "2022-09-05T06:52:35.410809Z",
     "shell.execute_reply": "2022-09-05T06:52:35.409313Z",
     "shell.execute_reply.started": "2022-09-05T06:51:47.531401Z"
    }
   },
   "outputs": [],
   "source": [
    "%%time\n",
    "!wc -l {data_dir}/train.csv"
   ]
  },
  {
   "cell_type": "code",
   "execution_count": 6,
   "metadata": {
    "execution": {
     "iopub.execute_input": "2022-09-05T06:52:35.414063Z",
     "iopub.status.busy": "2022-09-05T06:52:35.413706Z",
     "iopub.status.idle": "2022-09-05T06:52:36.818861Z",
     "shell.execute_reply": "2022-09-05T06:52:36.817749Z",
     "shell.execute_reply.started": "2022-09-05T06:52:35.414027Z"
    }
   },
   "outputs": [],
   "source": [
    "%%time\n",
    "!wc -l {data_dir}/test.csv"
   ]
  },
  {
   "cell_type": "code",
   "execution_count": 7,
   "metadata": {
    "execution": {
     "iopub.execute_input": "2022-09-05T06:52:36.821955Z",
     "iopub.status.busy": "2022-09-05T06:52:36.820741Z",
     "iopub.status.idle": "2022-09-05T06:52:38.204622Z",
     "shell.execute_reply": "2022-09-05T06:52:38.202648Z",
     "shell.execute_reply.started": "2022-09-05T06:52:36.821900Z"
    }
   },
   "outputs": [],
   "source": [
    "%%time\n",
    "!wc -l {data_dir}/sample_submission.csv"
   ]
  },
  {
   "cell_type": "code",
   "execution_count": 8,
   "metadata": {
    "execution": {
     "iopub.execute_input": "2022-09-05T06:52:38.208299Z",
     "iopub.status.busy": "2022-09-05T06:52:38.207744Z",
     "iopub.status.idle": "2022-09-05T06:52:39.583866Z",
     "shell.execute_reply": "2022-09-05T06:52:39.582032Z",
     "shell.execute_reply.started": "2022-09-05T06:52:38.208235Z"
    }
   },
   "outputs": [],
   "source": [
    "%%time\n",
    "# Training set\n",
    "!head {data_dir}/train.csv"
   ]
  },
  {
   "cell_type": "code",
   "execution_count": 9,
   "metadata": {
    "execution": {
     "iopub.execute_input": "2022-09-05T06:52:39.587089Z",
     "iopub.status.busy": "2022-09-05T06:52:39.586589Z",
     "iopub.status.idle": "2022-09-05T06:52:40.976069Z",
     "shell.execute_reply": "2022-09-05T06:52:40.974545Z",
     "shell.execute_reply.started": "2022-09-05T06:52:39.587038Z"
    }
   },
   "outputs": [],
   "source": [
    "%%time\n",
    "# Test set\n",
    "!head {data_dir}/test.csv"
   ]
  },
  {
   "cell_type": "code",
   "execution_count": 10,
   "metadata": {
    "execution": {
     "iopub.execute_input": "2022-09-05T06:52:40.979411Z",
     "iopub.status.busy": "2022-09-05T06:52:40.978833Z",
     "iopub.status.idle": "2022-09-05T06:52:42.418462Z",
     "shell.execute_reply": "2022-09-05T06:52:42.416613Z",
     "shell.execute_reply.started": "2022-09-05T06:52:40.979345Z"
    }
   },
   "outputs": [],
   "source": [
    "%%time\n",
    "#  Sample sub\n",
    "!head {data_dir}/sample_submission.csv"
   ]
  },
  {
   "cell_type": "code",
   "execution_count": 11,
   "metadata": {
    "execution": {
     "iopub.execute_input": "2022-09-05T06:52:42.422750Z",
     "iopub.status.busy": "2022-09-05T06:52:42.422333Z",
     "iopub.status.idle": "2022-09-05T06:52:42.805053Z",
     "shell.execute_reply": "2022-09-05T06:52:42.803791Z",
     "shell.execute_reply.started": "2022-09-05T06:52:42.422710Z"
    }
   },
   "outputs": [],
   "source": [
    "%%time\n",
    "# Importing the data in pieces\n",
    "\n",
    "df_test = pd.read_csv(data_dir+'/test.csv',parse_dates=['pickup_datetime'])\n",
    "df_test"
   ]
  },
  {
   "cell_type": "code",
   "execution_count": 12,
   "metadata": {
    "execution": {
     "iopub.execute_input": "2022-09-05T06:52:42.807091Z",
     "iopub.status.busy": "2022-09-05T06:52:42.806729Z",
     "iopub.status.idle": "2022-09-05T06:52:42.816498Z",
     "shell.execute_reply": "2022-09-05T06:52:42.815303Z",
     "shell.execute_reply.started": "2022-09-05T06:52:42.807059Z"
    }
   },
   "outputs": [],
   "source": [
    "%%time\n",
    "df_test.shape"
   ]
  },
  {
   "cell_type": "code",
   "execution_count": 13,
   "metadata": {
    "execution": {
     "iopub.execute_input": "2022-09-05T06:52:42.818658Z",
     "iopub.status.busy": "2022-09-05T06:52:42.817932Z",
     "iopub.status.idle": "2022-09-05T06:52:42.834240Z",
     "shell.execute_reply": "2022-09-05T06:52:42.833115Z",
     "shell.execute_reply.started": "2022-09-05T06:52:42.818611Z"
    }
   },
   "outputs": [],
   "source": [
    "df_test.key.nunique()"
   ]
  },
  {
   "cell_type": "markdown",
   "metadata": {},
   "source": [
    "loading the Training data"
   ]
  },
  {
   "cell_type": "code",
   "execution_count": 14,
   "metadata": {
    "execution": {
     "iopub.execute_input": "2022-09-05T06:52:42.836274Z",
     "iopub.status.busy": "2022-09-05T06:52:42.835551Z",
     "iopub.status.idle": "2022-09-05T07:22:16.703766Z",
     "shell.execute_reply": "2022-09-05T07:22:16.702489Z",
     "shell.execute_reply.started": "2022-09-05T06:52:42.836240Z"
    }
   },
   "outputs": [],
   "source": [
    "%%time\n",
    "import random # selecting random satasets from training data sets\n",
    "sample_frac = 0.20  #loading only 20% data at once\n",
    "\n",
    "selected_cols = 'fare_amount,pickup_datetime,pickup_longitude,pickup_latitude,dropoff_longitude,dropoff_latitude,passenger_count'.split(',')\n",
    "dtypes = {\n",
    "    'fare_amount': 'float16', \n",
    "    'pickup_longitude': 'float32',\n",
    "    'pickup_latitude': 'float32',\n",
    "    'dropoff_longitude': 'float32',\n",
    "    'passenger_count': 'uint8'\n",
    "}\n",
    "\n",
    "## this function will return Treu for (1- sample_frac) thus these rows will be skipped \n",
    "\n",
    "def skip_row(row_idx):\n",
    "    if row_idx == 0:\n",
    "        return False\n",
    "    return random.random() > sample_frac \n",
    "\n",
    "random.seed(7)\n",
    "df = pd.read_csv(data_dir+\"/train.csv\", \n",
    "                 usecols=selected_cols, \n",
    "                 dtype=dtypes, \n",
    "                 parse_dates=['pickup_datetime'], \n",
    "                 skiprows=skip_row)\n",
    "df_original =df.copy()\n",
    "df"
   ]
  },
  {
   "cell_type": "code",
   "execution_count": 57,
   "metadata": {
    "execution": {
     "iopub.execute_input": "2022-09-05T08:25:16.168210Z",
     "iopub.status.busy": "2022-09-05T08:25:16.167576Z",
     "iopub.status.idle": "2022-09-05T08:25:16.594899Z",
     "shell.execute_reply": "2022-09-05T08:25:16.593461Z",
     "shell.execute_reply.started": "2022-09-05T08:25:16.168163Z"
    }
   },
   "outputs": [],
   "source": [
    "df =df_original.copy()\n",
    "df"
   ]
  },
  {
   "cell_type": "code",
   "execution_count": 58,
   "metadata": {
    "execution": {
     "iopub.execute_input": "2022-09-05T08:25:21.355208Z",
     "iopub.status.busy": "2022-09-05T08:25:21.353958Z",
     "iopub.status.idle": "2022-09-05T08:25:21.381848Z",
     "shell.execute_reply": "2022-09-05T08:25:21.380434Z",
     "shell.execute_reply.started": "2022-09-05T08:25:21.355108Z"
    }
   },
   "outputs": [],
   "source": [
    "%%time\n",
    "df.info()"
   ]
  },
  {
   "cell_type": "markdown",
   "metadata": {},
   "source": [
    "Cleaning and exploring the dataset"
   ]
  },
  {
   "cell_type": "code",
   "execution_count": 59,
   "metadata": {
    "execution": {
     "iopub.execute_input": "2022-09-05T08:25:22.048766Z",
     "iopub.status.busy": "2022-09-05T08:25:22.047876Z",
     "iopub.status.idle": "2022-09-05T08:25:22.254298Z",
     "shell.execute_reply": "2022-09-05T08:25:22.252965Z",
     "shell.execute_reply.started": "2022-09-05T08:25:22.048721Z"
    }
   },
   "outputs": [],
   "source": [
    "%%time\n",
    "#  checking for null values in dataset \n",
    "df.isnull().sum()"
   ]
  },
  {
   "cell_type": "code",
   "execution_count": 60,
   "metadata": {
    "execution": {
     "iopub.execute_input": "2022-09-05T08:25:22.950278Z",
     "iopub.status.busy": "2022-09-05T08:25:22.949774Z",
     "iopub.status.idle": "2022-09-05T08:25:24.070065Z",
     "shell.execute_reply": "2022-09-05T08:25:24.068571Z",
     "shell.execute_reply.started": "2022-09-05T08:25:22.950237Z"
    }
   },
   "outputs": [],
   "source": [
    "%%time\n",
    "df = df.dropna() # drop null values found at earlier stage "
   ]
  },
  {
   "cell_type": "code",
   "execution_count": 61,
   "metadata": {
    "execution": {
     "iopub.execute_input": "2022-09-05T08:25:24.117708Z",
     "iopub.status.busy": "2022-09-05T08:25:24.117218Z",
     "iopub.status.idle": "2022-09-05T08:25:24.297265Z",
     "shell.execute_reply": "2022-09-05T08:25:24.296090Z",
     "shell.execute_reply.started": "2022-09-05T08:25:24.117670Z"
    }
   },
   "outputs": [],
   "source": [
    "%%time\n",
    "df.isnull().sum()"
   ]
  },
  {
   "cell_type": "code",
   "execution_count": 62,
   "metadata": {
    "execution": {
     "iopub.execute_input": "2022-09-05T08:25:27.722415Z",
     "iopub.status.busy": "2022-09-05T08:25:27.721226Z",
     "iopub.status.idle": "2022-09-05T08:25:46.385670Z",
     "shell.execute_reply": "2022-09-05T08:25:46.382275Z",
     "shell.execute_reply.started": "2022-09-05T08:25:27.722322Z"
    }
   },
   "outputs": [],
   "source": [
    "%%time\n",
    "#### Checking for duplicates\n",
    "df.duplicated().sum()"
   ]
  },
  {
   "cell_type": "code",
   "execution_count": 63,
   "metadata": {
    "execution": {
     "iopub.execute_input": "2022-09-05T08:25:48.577788Z",
     "iopub.status.busy": "2022-09-05T08:25:48.577301Z",
     "iopub.status.idle": "2022-09-05T08:26:22.873430Z",
     "shell.execute_reply": "2022-09-05T08:26:22.871331Z",
     "shell.execute_reply.started": "2022-09-05T08:25:48.577753Z"
    }
   },
   "outputs": [],
   "source": [
    "%%time\n",
    "# There are 42 duplicates, Lets remove them\n",
    "df = df.drop_duplicates()  ## dropes duplicates\n",
    "df.duplicated().sum()"
   ]
  },
  {
   "cell_type": "code",
   "execution_count": 64,
   "metadata": {
    "execution": {
     "iopub.execute_input": "2022-09-05T08:26:39.641357Z",
     "iopub.status.busy": "2022-09-05T08:26:39.640829Z",
     "iopub.status.idle": "2022-09-05T08:26:39.659254Z",
     "shell.execute_reply": "2022-09-05T08:26:39.657258Z",
     "shell.execute_reply.started": "2022-09-05T08:26:39.641317Z"
    }
   },
   "outputs": [],
   "source": [
    "df.info()"
   ]
  },
  {
   "cell_type": "code",
   "execution_count": 65,
   "metadata": {
    "execution": {
     "iopub.execute_input": "2022-09-05T08:26:39.980181Z",
     "iopub.status.busy": "2022-09-05T08:26:39.978669Z",
     "iopub.status.idle": "2022-09-05T08:26:43.879664Z",
     "shell.execute_reply": "2022-09-05T08:26:43.877945Z",
     "shell.execute_reply.started": "2022-09-05T08:26:39.980103Z"
    }
   },
   "outputs": [],
   "source": [
    "%%time\n",
    "df.describe()"
   ]
  },
  {
   "cell_type": "markdown",
   "metadata": {},
   "source": [
    "# 3. Feature Engineering\n",
    "After some exploraation I realised I sholud perform **Feature Engineering** to understand the data properly  \n",
    "as I saw fare to be -ve in around 463 rows and fare value more than 500 few time and also infinite twice or trice\n",
    "1. add a feature for distance between pickup place and drop place\n",
    "2. Need to perform feature extraction for time"
   ]
  },
  {
   "cell_type": "code",
   "execution_count": 66,
   "metadata": {
    "execution": {
     "iopub.execute_input": "2022-09-05T08:26:48.828632Z",
     "iopub.status.busy": "2022-09-05T08:26:48.828178Z",
     "iopub.status.idle": "2022-09-05T08:26:48.840112Z",
     "shell.execute_reply": "2022-09-05T08:26:48.838563Z",
     "shell.execute_reply.started": "2022-09-05T08:26:48.828599Z"
    }
   },
   "outputs": [],
   "source": [
    "%%time\n",
    "# Add haversine distance (great circle distance between two points on earth given teir longitude and lattitude)\n",
    "\n",
    "import numpy as np\n",
    "\n",
    "def haversine_np(lon1, lat1, lon2, lat2):\n",
    "    \"\"\"\n",
    "    Calculate the great circle distance between two points\n",
    "    on the earth (specified in decimal degrees)\n",
    "\n",
    "    All args must be of equal length.    \n",
    "\n",
    "    \"\"\"\n",
    "    lon1, lat1, lon2, lat2 = map(np.radians, [lon1, lat1, lon2, lat2])\n",
    "\n",
    "    dlon = lon2 - lon1\n",
    "    dlat = lat2 - lat1\n",
    "\n",
    "    a = np.sin(dlat/2.0)**2 + np.cos(lat1) * np.cos(lat2) * np.sin(dlon/2.0)**2\n",
    "\n",
    "    c = 2 * np.arcsin(np.sqrt(a))\n",
    "    km = 6367 * c\n",
    "    return km"
   ]
  },
  {
   "cell_type": "code",
   "execution_count": 67,
   "metadata": {
    "execution": {
     "iopub.execute_input": "2022-09-05T08:26:49.100624Z",
     "iopub.status.busy": "2022-09-05T08:26:49.100072Z",
     "iopub.status.idle": "2022-09-05T08:26:49.109377Z",
     "shell.execute_reply": "2022-09-05T08:26:49.107667Z",
     "shell.execute_reply.started": "2022-09-05T08:26:49.100583Z"
    }
   },
   "outputs": [],
   "source": [
    "%%time\n",
    "def add_trip_distance(df):\n",
    "    df['trip_distance'] = haversine_np(df['pickup_longitude'], df['pickup_latitude'], df['dropoff_longitude'], df['dropoff_latitude'])"
   ]
  },
  {
   "cell_type": "code",
   "execution_count": 68,
   "metadata": {
    "execution": {
     "iopub.execute_input": "2022-09-05T08:26:50.430677Z",
     "iopub.status.busy": "2022-09-05T08:26:50.430206Z",
     "iopub.status.idle": "2022-09-05T08:26:51.758417Z",
     "shell.execute_reply": "2022-09-05T08:26:51.756931Z",
     "shell.execute_reply.started": "2022-09-05T08:26:50.430643Z"
    }
   },
   "outputs": [],
   "source": [
    "%%time\n",
    "add_trip_distance(df)"
   ]
  },
  {
   "cell_type": "code",
   "execution_count": 69,
   "metadata": {
    "execution": {
     "iopub.execute_input": "2022-09-05T08:26:51.762142Z",
     "iopub.status.busy": "2022-09-05T08:26:51.761100Z",
     "iopub.status.idle": "2022-09-05T08:26:51.770392Z",
     "shell.execute_reply": "2022-09-05T08:26:51.768751Z",
     "shell.execute_reply.started": "2022-09-05T08:26:51.762082Z"
    }
   },
   "outputs": [],
   "source": [
    "def add_dateparts(df, col):\n",
    "    df['year'] = df[col].dt.year\n",
    "    df['month'] = df[col].dt.month\n",
    "    df['day'] = df[col].dt.day\n",
    "    df['weekday'] = df[col].dt.weekday\n",
    "    df[col + '_hour'] = df[col].dt.hour"
   ]
  },
  {
   "cell_type": "code",
   "execution_count": 70,
   "metadata": {
    "execution": {
     "iopub.execute_input": "2022-09-05T08:26:51.773450Z",
     "iopub.status.busy": "2022-09-05T08:26:51.772507Z",
     "iopub.status.idle": "2022-09-05T08:26:58.751338Z",
     "shell.execute_reply": "2022-09-05T08:26:58.749455Z",
     "shell.execute_reply.started": "2022-09-05T08:26:51.773407Z"
    }
   },
   "outputs": [],
   "source": [
    "%%time\n",
    "add_dateparts(df, 'pickup_datetime')"
   ]
  },
  {
   "cell_type": "code",
   "execution_count": 71,
   "metadata": {
    "execution": {
     "iopub.execute_input": "2022-09-05T08:26:58.754960Z",
     "iopub.status.busy": "2022-09-05T08:26:58.754403Z",
     "iopub.status.idle": "2022-09-05T08:26:58.784416Z",
     "shell.execute_reply": "2022-09-05T08:26:58.782617Z",
     "shell.execute_reply.started": "2022-09-05T08:26:58.754909Z"
    }
   },
   "outputs": [],
   "source": [
    "%%time\n",
    "df.head()"
   ]
  },
  {
   "cell_type": "markdown",
   "metadata": {},
   "source": [
    "# 2. **EDA** cont...\n",
    "\n",
    "I wanted to see relationship between -ve fare value with distance thus decided to perform feature engineering before hand "
   ]
  },
  {
   "cell_type": "markdown",
   "metadata": {},
   "source": [
    "## To check anamolies in the data"
   ]
  },
  {
   "cell_type": "code",
   "execution_count": 72,
   "metadata": {
    "execution": {
     "iopub.execute_input": "2022-09-05T08:27:10.426005Z",
     "iopub.status.busy": "2022-09-05T08:27:10.425535Z",
     "iopub.status.idle": "2022-09-05T08:27:10.453865Z",
     "shell.execute_reply": "2022-09-05T08:27:10.452632Z",
     "shell.execute_reply.started": "2022-09-05T08:27:10.425971Z"
    }
   },
   "outputs": [],
   "source": [
    "df"
   ]
  },
  {
   "cell_type": "code",
   "execution_count": 74,
   "metadata": {
    "execution": {
     "iopub.execute_input": "2022-09-05T08:27:33.416625Z",
     "iopub.status.busy": "2022-09-05T08:27:33.416207Z",
     "iopub.status.idle": "2022-09-05T08:27:33.573592Z",
     "shell.execute_reply": "2022-09-05T08:27:33.572389Z",
     "shell.execute_reply.started": "2022-09-05T08:27:33.416594Z"
    }
   },
   "outputs": [],
   "source": [
    "dt1 = df.loc[df['fare_amount']  < 0 ]\n",
    "dt1"
   ]
  },
  {
   "cell_type": "code",
   "execution_count": 76,
   "metadata": {
    "execution": {
     "iopub.execute_input": "2022-09-05T08:29:19.320588Z",
     "iopub.status.busy": "2022-09-05T08:29:19.319474Z",
     "iopub.status.idle": "2022-09-05T08:29:19.371778Z",
     "shell.execute_reply": "2022-09-05T08:29:19.370748Z",
     "shell.execute_reply.started": "2022-09-05T08:29:19.320527Z"
    }
   },
   "outputs": [],
   "source": [
    "dt1.describe()"
   ]
  },
  {
   "cell_type": "markdown",
   "metadata": {},
   "source": [
    "#### Fare amount\n",
    "In most of the cases where fare amountis negative, the following are the observation: \n",
    "* Pickup location is same as the drop loacation \n",
    "* either the pickup longitude/lattitude or dropoff longitude/lattitude is 0\n"
   ]
  },
  {
   "cell_type": "code",
   "execution_count": 78,
   "metadata": {
    "execution": {
     "iopub.execute_input": "2022-09-05T08:30:55.285754Z",
     "iopub.status.busy": "2022-09-05T08:30:55.284988Z",
     "iopub.status.idle": "2022-09-05T08:30:55.353695Z",
     "shell.execute_reply": "2022-09-05T08:30:55.352212Z",
     "shell.execute_reply.started": "2022-09-05T08:30:55.285698Z"
    }
   },
   "outputs": [],
   "source": [
    "## Checking for fare value to be greater than 500\n",
    "dt2 = df[df['fare_amount']>500]\n",
    "dt2"
   ]
  },
  {
   "cell_type": "code",
   "execution_count": 79,
   "metadata": {
    "execution": {
     "iopub.execute_input": "2022-09-05T08:31:13.955647Z",
     "iopub.status.busy": "2022-09-05T08:31:13.955109Z",
     "iopub.status.idle": "2022-09-05T08:31:14.017386Z",
     "shell.execute_reply": "2022-09-05T08:31:14.016090Z",
     "shell.execute_reply.started": "2022-09-05T08:31:13.955610Z"
    }
   },
   "outputs": [],
   "source": [
    "dt2.describe()"
   ]
  },
  {
   "cell_type": "markdown",
   "metadata": {},
   "source": [
    "#### Fare amount > 500\n",
    "In most of the cases where fare amountis negative, the following are the observation: \n",
    "* Pickup location is same as the drop loacation \n",
    "* either the pickup longitude/lattitude or dropoff longitude/lattitude is 0\n",
    "* Maximum value of amount is infinity \n",
    "* only 10 rows are found to be > 500, definitely an outlier\n"
   ]
  },
  {
   "cell_type": "code",
   "execution_count": 80,
   "metadata": {
    "execution": {
     "iopub.execute_input": "2022-09-05T08:33:21.312447Z",
     "iopub.status.busy": "2022-09-05T08:33:21.311850Z",
     "iopub.status.idle": "2022-09-05T08:33:21.476421Z",
     "shell.execute_reply": "2022-09-05T08:33:21.474964Z",
     "shell.execute_reply.started": "2022-09-05T08:33:21.312404Z"
    }
   },
   "outputs": [],
   "source": [
    "df[df['pickup_longitude']==0]"
   ]
  },
  {
   "cell_type": "code",
   "execution_count": 81,
   "metadata": {
    "execution": {
     "iopub.execute_input": "2022-09-05T08:33:27.105765Z",
     "iopub.status.busy": "2022-09-05T08:33:27.104498Z",
     "iopub.status.idle": "2022-09-05T08:33:27.225629Z",
     "shell.execute_reply": "2022-09-05T08:33:27.224192Z",
     "shell.execute_reply.started": "2022-09-05T08:33:27.105693Z"
    }
   },
   "outputs": [],
   "source": [
    "## Lets check for distance = 0\n",
    "df[df['trip_distance']==0]"
   ]
  },
  {
   "cell_type": "code",
   "execution_count": 82,
   "metadata": {
    "execution": {
     "iopub.execute_input": "2022-09-05T08:33:35.715624Z",
     "iopub.status.busy": "2022-09-05T08:33:35.715100Z",
     "iopub.status.idle": "2022-09-05T08:33:35.751690Z",
     "shell.execute_reply": "2022-09-05T08:33:35.749878Z",
     "shell.execute_reply.started": "2022-09-05T08:33:35.715585Z"
    }
   },
   "outputs": [],
   "source": [
    "dt = df[df['passenger_count']>6]\n",
    "dt"
   ]
  },
  {
   "cell_type": "code",
   "execution_count": 83,
   "metadata": {
    "execution": {
     "iopub.execute_input": "2022-09-05T08:33:52.533262Z",
     "iopub.status.busy": "2022-09-05T08:33:52.532795Z",
     "iopub.status.idle": "2022-09-05T08:33:52.616370Z",
     "shell.execute_reply": "2022-09-05T08:33:52.615161Z",
     "shell.execute_reply.started": "2022-09-05T08:33:52.533226Z"
    }
   },
   "outputs": [],
   "source": [
    "df.pickup_datetime.min(), df.pickup_datetime.max()"
   ]
  },
  {
   "cell_type": "code",
   "execution_count": 37,
   "metadata": {
    "execution": {
     "iopub.execute_input": "2022-09-05T07:23:14.827233Z",
     "iopub.status.busy": "2022-09-05T07:23:14.826188Z",
     "iopub.status.idle": "2022-09-05T07:23:15.289764Z",
     "shell.execute_reply": "2022-09-05T07:23:15.288597Z",
     "shell.execute_reply.started": "2022-09-05T07:23:14.827194Z"
    }
   },
   "outputs": [],
   "source": [
    "%%time\n",
    "df = df.drop('pickup_datetime', axis=1)\n",
    "df.head(2)"
   ]
  },
  {
   "cell_type": "code",
   "execution_count": 38,
   "metadata": {
    "execution": {
     "iopub.execute_input": "2022-09-05T07:23:15.291896Z",
     "iopub.status.busy": "2022-09-05T07:23:15.291422Z",
     "iopub.status.idle": "2022-09-05T07:23:22.915006Z",
     "shell.execute_reply": "2022-09-05T07:23:22.914069Z",
     "shell.execute_reply.started": "2022-09-05T07:23:15.291846Z"
    }
   },
   "outputs": [],
   "source": [
    "df.hist(figsize=(22,21), bins=20);"
   ]
  },
  {
   "cell_type": "markdown",
   "metadata": {},
   "source": [
    "# 3.1 Removing Outliers\n",
    "We'll use the following ranges:\n",
    "\n",
    "* fare_amount: 1 to 500\n",
    "* longitudes: -75 to -72\n",
    "* latitudes: 40 to 42\n",
    "* passenger_count: 1 to 6"
   ]
  },
  {
   "cell_type": "code",
   "execution_count": 84,
   "metadata": {
    "execution": {
     "iopub.execute_input": "2022-09-05T08:35:55.314192Z",
     "iopub.status.busy": "2022-09-05T08:35:55.313597Z",
     "iopub.status.idle": "2022-09-05T08:35:55.322351Z",
     "shell.execute_reply": "2022-09-05T08:35:55.321330Z",
     "shell.execute_reply.started": "2022-09-05T08:35:55.314151Z"
    }
   },
   "outputs": [],
   "source": [
    "%%time\n",
    "def remove_outliers(df):\n",
    "    return df[(df['fare_amount'] >= 1.) & \n",
    "              (df['fare_amount'] <= 500.) &\n",
    "              (df['pickup_longitude'] >= -75) & \n",
    "              (df['pickup_longitude'] <= -72) & \n",
    "              (df['dropoff_longitude'] >= -75) & \n",
    "              (df['dropoff_longitude'] <= -72) & \n",
    "              (df['pickup_latitude'] >= 40) & \n",
    "              (df['pickup_latitude'] <= 42) & \n",
    "              (df['dropoff_latitude'] >=40) & \n",
    "              (df['dropoff_latitude'] <= 42) & \n",
    "              (df['passenger_count'] >= 1) & \n",
    "              (df['passenger_count'] <= 6)]"
   ]
  },
  {
   "cell_type": "code",
   "execution_count": 85,
   "metadata": {
    "execution": {
     "iopub.execute_input": "2022-09-05T08:36:01.036051Z",
     "iopub.status.busy": "2022-09-05T08:36:01.034985Z",
     "iopub.status.idle": "2022-09-05T08:36:02.553109Z",
     "shell.execute_reply": "2022-09-05T08:36:02.551485Z",
     "shell.execute_reply.started": "2022-09-05T08:36:01.036009Z"
    }
   },
   "outputs": [],
   "source": [
    "%%time\n",
    "df = remove_outliers(df)"
   ]
  },
  {
   "cell_type": "markdown",
   "metadata": {},
   "source": [
    "# Ask & answer questions about the dataset: \n",
    "\n",
    "1. What is the busiest day of the week?\n",
    "2. What is the busiest time of the day?\n",
    "3. In which month are fares the highest?\n",
    "4. Which pickup locations have the highest fares?\n",
    "5. Which drop locations have the highest fares?\n",
    "6. What is the average ride distance?\n",
    "\n",
    "EDA + asking questions will help you develop a deeper understand of the data and give you ideas for feature engineering."
   ]
  },
  {
   "cell_type": "code",
   "execution_count": 86,
   "metadata": {
    "execution": {
     "iopub.execute_input": "2022-09-05T08:36:09.596714Z",
     "iopub.status.busy": "2022-09-05T08:36:09.595220Z",
     "iopub.status.idle": "2022-09-05T08:36:09.695030Z",
     "shell.execute_reply": "2022-09-05T08:36:09.693742Z",
     "shell.execute_reply.started": "2022-09-05T08:36:09.596655Z"
    }
   },
   "outputs": [],
   "source": [
    "# 1. What is the busiest day of the week?\n",
    "df.weekday.mode()"
   ]
  },
  {
   "cell_type": "code",
   "execution_count": 87,
   "metadata": {
    "execution": {
     "iopub.execute_input": "2022-09-05T08:36:16.776675Z",
     "iopub.status.busy": "2022-09-05T08:36:16.775823Z",
     "iopub.status.idle": "2022-09-05T08:36:16.876183Z",
     "shell.execute_reply": "2022-09-05T08:36:16.874851Z",
     "shell.execute_reply.started": "2022-09-05T08:36:16.776621Z"
    }
   },
   "outputs": [],
   "source": [
    "# 2. What is the busiest time of the day?\n",
    "df.pickup_datetime_hour.mode()"
   ]
  },
  {
   "cell_type": "code",
   "execution_count": 88,
   "metadata": {
    "execution": {
     "iopub.execute_input": "2022-09-05T08:36:23.653616Z",
     "iopub.status.busy": "2022-09-05T08:36:23.653177Z",
     "iopub.status.idle": "2022-09-05T08:36:30.438078Z",
     "shell.execute_reply": "2022-09-05T08:36:30.437221Z",
     "shell.execute_reply.started": "2022-09-05T08:36:23.653584Z"
    }
   },
   "outputs": [],
   "source": [
    "# 3. In which month are fares the highest? >>> winters have high fare and Jan has highest fare\n",
    "df_fare= df.sort_values(ascending=False, by= 'fare_amount').head(50)\n",
    "df_fare.month.hist()"
   ]
  },
  {
   "cell_type": "code",
   "execution_count": 43,
   "metadata": {
    "execution": {
     "iopub.execute_input": "2022-09-05T07:23:28.684652Z",
     "iopub.status.busy": "2022-09-05T07:23:28.683693Z",
     "iopub.status.idle": "2022-09-05T07:23:29.109209Z",
     "shell.execute_reply": "2022-09-05T07:23:29.108034Z",
     "shell.execute_reply.started": "2022-09-05T07:23:28.684617Z"
    }
   },
   "outputs": [],
   "source": [
    "# 4. Which pickup locations have the highest fares?\n",
    "sns.scatterplot(x='pickup_longitude', y= 'pickup_latitude', hue='fare_amount',data=df_fare);"
   ]
  },
  {
   "cell_type": "code",
   "execution_count": 44,
   "metadata": {
    "execution": {
     "iopub.execute_input": "2022-09-05T07:23:29.111571Z",
     "iopub.status.busy": "2022-09-05T07:23:29.111108Z",
     "iopub.status.idle": "2022-09-05T07:23:29.513456Z",
     "shell.execute_reply": "2022-09-05T07:23:29.512050Z",
     "shell.execute_reply.started": "2022-09-05T07:23:29.111526Z"
    }
   },
   "outputs": [],
   "source": [
    "# 5. Which drop locations have the highest fares?\n",
    "sns.scatterplot(x='dropoff_longitude', y= 'dropoff_latitude',hue='fare_amount',data=df_fare);"
   ]
  },
  {
   "cell_type": "code",
   "execution_count": 89,
   "metadata": {
    "collapsed": true,
    "execution": {
     "iopub.execute_input": "2022-09-05T08:38:07.033686Z",
     "iopub.status.busy": "2022-09-05T08:38:07.033076Z",
     "iopub.status.idle": "2022-09-05T08:47:12.795574Z",
     "shell.execute_reply": "2022-09-05T08:47:12.794202Z",
     "shell.execute_reply.started": "2022-09-05T08:38:07.033643Z"
    },
    "jupyter": {
     "outputs_hidden": true
    }
   },
   "outputs": [],
   "source": [
    "### Plotting log , lat for pickup\n",
    "sns.scatterplot(x='pickup_longitude', y= 'pickup_latitude', data=df, hue='fare_amount')"
   ]
  },
  {
   "cell_type": "code",
   "execution_count": 47,
   "metadata": {
    "execution": {
     "iopub.execute_input": "2022-09-05T07:24:07.395104Z",
     "iopub.status.busy": "2022-09-05T07:24:07.394621Z",
     "iopub.status.idle": "2022-09-05T07:38:06.135967Z",
     "shell.execute_reply": "2022-09-05T07:38:06.134416Z",
     "shell.execute_reply.started": "2022-09-05T07:24:07.395064Z"
    }
   },
   "outputs": [],
   "source": [
    "### Plotting log , lat for pickup\n",
    "sns.scatterplot(x='dropoff_longitude', y= 'dropoff_latitude', data=df , hue='fare_amount')"
   ]
  },
  {
   "cell_type": "markdown",
   "metadata": {},
   "source": [
    "### FOr test dataset"
   ]
  },
  {
   "cell_type": "code",
   "execution_count": 91,
   "metadata": {
    "collapsed": true,
    "execution": {
     "iopub.execute_input": "2022-09-05T08:47:12.816509Z",
     "iopub.status.busy": "2022-09-05T08:47:12.815713Z",
     "iopub.status.idle": "2022-09-05T08:47:14.724497Z",
     "shell.execute_reply": "2022-09-05T08:47:14.723215Z",
     "shell.execute_reply.started": "2022-09-05T08:47:12.816457Z"
    },
    "jupyter": {
     "outputs_hidden": true
    }
   },
   "outputs": [],
   "source": [
    "%%time\n",
    "df_test.hist(figsize=(8,7), bins=20)"
   ]
  },
  {
   "cell_type": "code",
   "execution_count": 92,
   "metadata": {
    "execution": {
     "iopub.execute_input": "2022-09-05T08:47:14.729048Z",
     "iopub.status.busy": "2022-09-05T08:47:14.728206Z",
     "iopub.status.idle": "2022-09-05T08:47:14.751218Z",
     "shell.execute_reply": "2022-09-05T08:47:14.749699Z",
     "shell.execute_reply.started": "2022-09-05T08:47:14.729008Z"
    }
   },
   "outputs": [],
   "source": [
    "%%time\n",
    "df_test[df_test['pickup_longitude']==0]"
   ]
  },
  {
   "cell_type": "code",
   "execution_count": 93,
   "metadata": {
    "execution": {
     "iopub.execute_input": "2022-09-05T08:47:14.753229Z",
     "iopub.status.busy": "2022-09-05T08:47:14.752681Z",
     "iopub.status.idle": "2022-09-05T08:47:14.771184Z",
     "shell.execute_reply": "2022-09-05T08:47:14.769039Z",
     "shell.execute_reply.started": "2022-09-05T08:47:14.753176Z"
    }
   },
   "outputs": [],
   "source": [
    "df_test[df_test['passenger_count']>6]"
   ]
  },
  {
   "cell_type": "code",
   "execution_count": 90,
   "metadata": {
    "execution": {
     "iopub.execute_input": "2022-09-05T08:47:12.798735Z",
     "iopub.status.busy": "2022-09-05T08:47:12.798351Z",
     "iopub.status.idle": "2022-09-05T08:47:12.813358Z",
     "shell.execute_reply": "2022-09-05T08:47:12.811445Z",
     "shell.execute_reply.started": "2022-09-05T08:47:12.798700Z"
    }
   },
   "outputs": [],
   "source": [
    "df_test.pickup_datetime.min(), df_test.pickup_datetime.max()"
   ]
  },
  {
   "cell_type": "markdown",
   "metadata": {},
   "source": [
    "No anamolies in test data set "
   ]
  },
  {
   "cell_type": "markdown",
   "metadata": {},
   "source": [
    "## 4. Prepare Dataset for Training\n",
    "\n",
    "- Split Training & Validation Set\n",
    "- Fill/Remove Missing Values\n",
    "- Extract Inputs & Outputs\n",
    "   - Training\n",
    "   - Validation\n",
    "   - Test"
   ]
  },
  {
   "cell_type": "code",
   "execution_count": 94,
   "metadata": {
    "execution": {
     "iopub.execute_input": "2022-09-05T08:47:14.773385Z",
     "iopub.status.busy": "2022-09-05T08:47:14.772919Z",
     "iopub.status.idle": "2022-09-05T08:47:20.740707Z",
     "shell.execute_reply": "2022-09-05T08:47:20.739444Z",
     "shell.execute_reply.started": "2022-09-05T08:47:14.773348Z"
    }
   },
   "outputs": [],
   "source": [
    "%%time\n",
    "df.corr()"
   ]
  },
  {
   "cell_type": "code",
   "execution_count": 95,
   "metadata": {
    "execution": {
     "iopub.execute_input": "2022-09-05T08:47:20.742537Z",
     "iopub.status.busy": "2022-09-05T08:47:20.742181Z",
     "iopub.status.idle": "2022-09-05T08:47:27.255393Z",
     "shell.execute_reply": "2022-09-05T08:47:27.254210Z",
     "shell.execute_reply.started": "2022-09-05T08:47:20.742507Z"
    }
   },
   "outputs": [],
   "source": [
    "df.describe()"
   ]
  },
  {
   "cell_type": "code",
   "execution_count": 96,
   "metadata": {
    "execution": {
     "iopub.execute_input": "2022-09-05T08:47:27.257008Z",
     "iopub.status.busy": "2022-09-05T08:47:27.256641Z",
     "iopub.status.idle": "2022-09-05T08:47:27.262977Z",
     "shell.execute_reply": "2022-09-05T08:47:27.261678Z",
     "shell.execute_reply.started": "2022-09-05T08:47:27.256975Z"
    }
   },
   "outputs": [],
   "source": [
    "import seaborn as sns\n",
    "#%%time\n",
    "#sns.lineplot(y='fare_amount', x='pickup_datetime', data= df_original)"
   ]
  },
  {
   "cell_type": "markdown",
   "metadata": {},
   "source": [
    "### Split Training & Validation Set\n",
    "\n",
    "We'll set aside 20% of the training data as the validation set, to evaluate the models we train on previously unseen data. \n",
    "\n",
    "Since the test set and training set have the same date ranges, we can pick a random 20% fraction."
   ]
  },
  {
   "cell_type": "code",
   "execution_count": 97,
   "metadata": {
    "execution": {
     "iopub.execute_input": "2022-09-05T08:47:27.265374Z",
     "iopub.status.busy": "2022-09-05T08:47:27.264976Z",
     "iopub.status.idle": "2022-09-05T08:47:31.929389Z",
     "shell.execute_reply": "2022-09-05T08:47:31.928181Z",
     "shell.execute_reply.started": "2022-09-05T08:47:27.265341Z"
    }
   },
   "outputs": [],
   "source": [
    "from sklearn.model_selection import train_test_split\n",
    "train_df, val_df = train_test_split(df, test_size=0.2, random_state=42)\n",
    "len(train_df), len(val_df)"
   ]
  },
  {
   "cell_type": "code",
   "execution_count": 98,
   "metadata": {
    "execution": {
     "iopub.execute_input": "2022-09-05T08:47:31.934308Z",
     "iopub.status.busy": "2022-09-05T08:47:31.933887Z",
     "iopub.status.idle": "2022-09-05T08:47:31.942151Z",
     "shell.execute_reply": "2022-09-05T08:47:31.940790Z",
     "shell.execute_reply.started": "2022-09-05T08:47:31.934272Z"
    }
   },
   "outputs": [],
   "source": [
    "df.columns"
   ]
  },
  {
   "cell_type": "code",
   "execution_count": 101,
   "metadata": {
    "execution": {
     "iopub.execute_input": "2022-09-05T08:49:42.477366Z",
     "iopub.status.busy": "2022-09-05T08:49:42.476831Z",
     "iopub.status.idle": "2022-09-05T08:49:42.483677Z",
     "shell.execute_reply": "2022-09-05T08:49:42.482251Z",
     "shell.execute_reply.started": "2022-09-05T08:49:42.477327Z"
    }
   },
   "outputs": [],
   "source": [
    "input_cols = ['pickup_longitude', 'pickup_latitude',\n",
    "       'dropoff_longitude', 'dropoff_latitude', 'passenger_count',\n",
    "       'trip_distance', 'year', 'month', 'day', 'weekday',\n",
    "       'pickup_datetime_hour']\n",
    "target_col = 'fare_amount'"
   ]
  },
  {
   "cell_type": "code",
   "execution_count": 102,
   "metadata": {
    "execution": {
     "iopub.execute_input": "2022-09-05T08:49:44.155580Z",
     "iopub.status.busy": "2022-09-05T08:49:44.154636Z",
     "iopub.status.idle": "2022-09-05T08:49:44.898345Z",
     "shell.execute_reply": "2022-09-05T08:49:44.897002Z",
     "shell.execute_reply.started": "2022-09-05T08:49:44.155536Z"
    }
   },
   "outputs": [],
   "source": [
    "train_inputs = train_df[input_cols]\n",
    "train_targets = train_df[target_col]\n",
    "train_inputs.head(3)"
   ]
  },
  {
   "cell_type": "code",
   "execution_count": 103,
   "metadata": {
    "execution": {
     "iopub.execute_input": "2022-09-05T08:49:53.711469Z",
     "iopub.status.busy": "2022-09-05T08:49:53.710997Z",
     "iopub.status.idle": "2022-09-05T08:49:53.722364Z",
     "shell.execute_reply": "2022-09-05T08:49:53.721416Z",
     "shell.execute_reply.started": "2022-09-05T08:49:53.711429Z"
    }
   },
   "outputs": [],
   "source": [
    "train_targets.head(3)"
   ]
  },
  {
   "cell_type": "markdown",
   "metadata": {},
   "source": [
    "Validation of training dataset on validation set "
   ]
  },
  {
   "cell_type": "code",
   "execution_count": 104,
   "metadata": {
    "execution": {
     "iopub.execute_input": "2022-09-05T08:49:58.773139Z",
     "iopub.status.busy": "2022-09-05T08:49:58.771930Z",
     "iopub.status.idle": "2022-09-05T08:49:58.971181Z",
     "shell.execute_reply": "2022-09-05T08:49:58.969717Z",
     "shell.execute_reply.started": "2022-09-05T08:49:58.773078Z"
    }
   },
   "outputs": [],
   "source": [
    "val_inputs = val_df[input_cols]\n",
    "val_targets = val_df[target_col]\n",
    "\n",
    "display(val_inputs.head(3))\n",
    "display(val_targets.head(3))"
   ]
  },
  {
   "cell_type": "code",
   "execution_count": 105,
   "metadata": {
    "execution": {
     "iopub.execute_input": "2022-09-05T08:50:29.533551Z",
     "iopub.status.busy": "2022-09-05T08:50:29.532410Z",
     "iopub.status.idle": "2022-09-05T08:50:29.572339Z",
     "shell.execute_reply": "2022-09-05T08:50:29.570950Z",
     "shell.execute_reply.started": "2022-09-05T08:50:29.533500Z"
    }
   },
   "outputs": [],
   "source": [
    "### Feature enigeerning on Test dataset\n",
    "add_dateparts(df_test, 'pickup_datetime')\n",
    "add_trip_distance(df_test)\n",
    "\n",
    "# for name, lonlat in [('jfk', jfk_lonlat), ('lga', lga_lonlat), ('ewr', ewr_lonlat), ('met', met_lonlat), ('wtc', wtc_lonlat)]:\n",
    "#     add_landmark_dropoff_distance(df_test, name, lonlat)\n",
    "df_test.head(2)"
   ]
  },
  {
   "cell_type": "code",
   "execution_count": 106,
   "metadata": {
    "execution": {
     "iopub.execute_input": "2022-09-05T08:50:35.133441Z",
     "iopub.status.busy": "2022-09-05T08:50:35.132978Z",
     "iopub.status.idle": "2022-09-05T08:50:35.154308Z",
     "shell.execute_reply": "2022-09-05T08:50:35.153173Z",
     "shell.execute_reply.started": "2022-09-05T08:50:35.133404Z"
    }
   },
   "outputs": [],
   "source": [
    "test_inputs = df_test[input_cols]\n",
    "test_inputs.head(3)"
   ]
  },
  {
   "cell_type": "markdown",
   "metadata": {},
   "source": [
    "# 5 Modelling"
   ]
  },
  {
   "cell_type": "markdown",
   "metadata": {},
   "source": [
    "## 5.1. Train Hardcoded & Baseline Models\n",
    "\n",
    "- Hardcoded model: always predict average fare\n",
    "- Baseline model: Linear regression \n",
    "\n",
    "For evaluation the dataset uses RMSE error: \n",
    "https://www.kaggle.com/c/new-york-city-taxi-fare-prediction/overview/evaluation"
   ]
  },
  {
   "cell_type": "markdown",
   "metadata": {},
   "source": [
    "### Train & Evaluate Hardcoded Model\n",
    "\n",
    "general approach is to create a simple model that always predicts the average.\n",
    "But we will use **linear regression **"
   ]
  },
  {
   "cell_type": "code",
   "execution_count": 107,
   "metadata": {
    "execution": {
     "iopub.execute_input": "2022-09-05T08:53:02.675977Z",
     "iopub.status.busy": "2022-09-05T08:53:02.675472Z",
     "iopub.status.idle": "2022-09-05T08:53:08.723446Z",
     "shell.execute_reply": "2022-09-05T08:53:08.722373Z",
     "shell.execute_reply.started": "2022-09-05T08:53:02.675940Z"
    }
   },
   "outputs": [],
   "source": [
    "%%time\n",
    "from sklearn.metrics import mean_squared_error\n",
    "from sklearn.linear_model import LinearRegression\n",
    "\n",
    "\n",
    "linreg_model = LinearRegression()\n",
    "linreg_model.fit(train_inputs, train_targets)\n",
    "train_preds = linreg_model.predict(train_inputs)\n",
    "val_preds = linreg_model.predict(val_inputs)\n",
    "train_rmse = mean_squared_error(train_targets, train_preds, squared=False)\n",
    "val_rmse = mean_squared_error(val_targets, val_preds, squared=False)\n",
    "print('RMSE Score on Validation data',val_rmse)\n",
    "print('RMSE Score on Validation data',train_rmse)"
   ]
  },
  {
   "cell_type": "markdown",
   "metadata": {},
   "source": [
    "* Rmse = 5.15384799403991 mean our prediction is off by 5.153 per prediction which is not good as **fare.median is 8.5**\n",
    "* our base model isn't overfitting as validation score is similar to training set"
   ]
  },
  {
   "cell_type": "code",
   "execution_count": 108,
   "metadata": {
    "execution": {
     "iopub.execute_input": "2022-09-05T08:54:47.054935Z",
     "iopub.status.busy": "2022-09-05T08:54:47.054428Z",
     "iopub.status.idle": "2022-09-05T08:54:47.430395Z",
     "shell.execute_reply": "2022-09-05T08:54:47.428799Z",
     "shell.execute_reply.started": "2022-09-05T08:54:47.054899Z"
    }
   },
   "outputs": [],
   "source": [
    "df.fare_amount.median()"
   ]
  },
  {
   "cell_type": "code",
   "execution_count": 109,
   "metadata": {
    "execution": {
     "iopub.execute_input": "2022-09-05T08:55:00.761031Z",
     "iopub.status.busy": "2022-09-05T08:55:00.760513Z",
     "iopub.status.idle": "2022-09-05T08:55:01.444710Z",
     "shell.execute_reply": "2022-09-05T08:55:01.443507Z",
     "shell.execute_reply.started": "2022-09-05T08:55:00.760996Z"
    }
   },
   "outputs": [],
   "source": [
    "from sklearn.metrics import r2_score\n",
    "r2_train= r2_score(train_targets, train_preds)\n",
    "r2_val = r2_score(val_targets, val_preds)\n",
    "print('R2 Score on Validation data',r2_val)\n",
    "print('R2 Score on Validation data',r2_train)"
   ]
  },
  {
   "cell_type": "markdown",
   "metadata": {},
   "source": [
    "## 5.2 Train & Evaluate Different Models\n",
    "\n",
    "We'll train each of the following & submit predictions to Kaggle:\n",
    "\n",
    "- Ridge Regression\n",
    "- Random Forests\n",
    "- Gradient Boosting"
   ]
  },
  {
   "cell_type": "code",
   "execution_count": 110,
   "metadata": {
    "execution": {
     "iopub.execute_input": "2022-09-05T08:55:34.089528Z",
     "iopub.status.busy": "2022-09-05T08:55:34.088540Z",
     "iopub.status.idle": "2022-09-05T08:55:34.096865Z",
     "shell.execute_reply": "2022-09-05T08:55:34.095491Z",
     "shell.execute_reply.started": "2022-09-05T08:55:34.089480Z"
    }
   },
   "outputs": [],
   "source": [
    "def evaluate(model):\n",
    "    train_preds = model.predict(train_inputs)\n",
    "    train_rmse = mean_squared_error(train_targets, train_preds, squared=False)\n",
    "    val_preds = model.predict(val_inputs)\n",
    "    val_rmse = mean_squared_error(val_targets, val_preds, squared=False)\n",
    "    return train_rmse, val_rmse, train_preds, val_preds"
   ]
  },
  {
   "cell_type": "code",
   "execution_count": 111,
   "metadata": {
    "execution": {
     "iopub.execute_input": "2022-09-05T08:55:56.138354Z",
     "iopub.status.busy": "2022-09-05T08:55:56.137442Z",
     "iopub.status.idle": "2022-09-05T08:55:56.145651Z",
     "shell.execute_reply": "2022-09-05T08:55:56.144384Z",
     "shell.execute_reply.started": "2022-09-05T08:55:56.138304Z"
    }
   },
   "outputs": [],
   "source": [
    "def predict_and_submit(model, fname):\n",
    "    test_preds = model.predict(test_inputs)\n",
    "    sub_df = pd.read_csv(data_dir+'/sample_submission.csv')\n",
    "    sub_df['fare_amount'] = test_preds\n",
    "    sub_df.to_csv(fname, index=None)\n",
    "    return sub_df"
   ]
  },
  {
   "cell_type": "markdown",
   "metadata": {},
   "source": [
    "Ridge Regression"
   ]
  },
  {
   "cell_type": "code",
   "execution_count": 112,
   "metadata": {
    "execution": {
     "iopub.execute_input": "2022-09-05T08:56:35.024426Z",
     "iopub.status.busy": "2022-09-05T08:56:35.023979Z",
     "iopub.status.idle": "2022-09-05T08:56:35.030593Z",
     "shell.execute_reply": "2022-09-05T08:56:35.029550Z",
     "shell.execute_reply.started": "2022-09-05T08:56:35.024394Z"
    }
   },
   "outputs": [],
   "source": [
    "from sklearn.linear_model import Ridge\n",
    "model1 = Ridge(random_state=42)"
   ]
  },
  {
   "cell_type": "code",
   "execution_count": 113,
   "metadata": {
    "execution": {
     "iopub.execute_input": "2022-09-05T08:56:38.603549Z",
     "iopub.status.busy": "2022-09-05T08:56:38.602778Z",
     "iopub.status.idle": "2022-09-05T08:56:40.207987Z",
     "shell.execute_reply": "2022-09-05T08:56:40.206442Z",
     "shell.execute_reply.started": "2022-09-05T08:56:38.603509Z"
    }
   },
   "outputs": [],
   "source": [
    "%%time\n",
    "model1.fit(train_inputs, train_targets)"
   ]
  },
  {
   "cell_type": "code",
   "execution_count": 114,
   "metadata": {
    "execution": {
     "iopub.execute_input": "2022-09-05T08:57:03.679025Z",
     "iopub.status.busy": "2022-09-05T08:57:03.678006Z",
     "iopub.status.idle": "2022-09-05T08:57:04.558702Z",
     "shell.execute_reply": "2022-09-05T08:57:04.557199Z",
     "shell.execute_reply.started": "2022-09-05T08:57:03.678976Z"
    }
   },
   "outputs": [],
   "source": [
    "evaluate(model1)\n",
    "\n"
   ]
  },
  {
   "cell_type": "code",
   "execution_count": 115,
   "metadata": {
    "execution": {
     "iopub.execute_input": "2022-09-05T08:57:36.420748Z",
     "iopub.status.busy": "2022-09-05T08:57:36.420223Z",
     "iopub.status.idle": "2022-09-05T08:57:36.566930Z",
     "shell.execute_reply": "2022-09-05T08:57:36.565342Z",
     "shell.execute_reply.started": "2022-09-05T08:57:36.420711Z"
    }
   },
   "outputs": [],
   "source": [
    "predict_and_submit(model1, 'ridge_submission.csv')\n",
    "predict_and_submit(linreg_model, 'Linear_submission.csv')"
   ]
  },
  {
   "cell_type": "code",
   "execution_count": 119,
   "metadata": {
    "execution": {
     "iopub.execute_input": "2022-09-05T09:01:02.162880Z",
     "iopub.status.busy": "2022-09-05T09:01:02.162268Z",
     "iopub.status.idle": "2022-09-05T09:01:02.169577Z",
     "shell.execute_reply": "2022-09-05T09:01:02.168317Z",
     "shell.execute_reply.started": "2022-09-05T09:01:02.162827Z"
    }
   },
   "outputs": [],
   "source": [
    "from sklearn.ensemble import RandomForestRegressor"
   ]
  },
  {
   "cell_type": "code",
   "execution_count": 120,
   "metadata": {
    "collapsed": true,
    "execution": {
     "iopub.execute_input": "2022-09-05T09:01:19.003113Z",
     "iopub.status.busy": "2022-09-05T09:01:19.002514Z",
     "iopub.status.idle": "2022-09-05T09:04:51.943967Z",
     "shell.execute_reply": "2022-09-05T09:04:51.942381Z",
     "shell.execute_reply.started": "2022-09-05T09:01:19.003068Z"
    },
    "jupyter": {
     "outputs_hidden": true
    }
   },
   "outputs": [],
   "source": [
    "%%time\n",
    "model2 = RandomForestRegressor(max_depth=10, n_jobs=-1, random_state=7, n_estimators=50)\n",
    "model2.fit(train_inputs, train_targets)"
   ]
  },
  {
   "cell_type": "code",
   "execution_count": null,
   "metadata": {
    "execution": {
     "iopub.status.busy": "2022-09-05T09:00:54.993324Z",
     "iopub.status.idle": "2022-09-05T09:00:54.994057Z",
     "shell.execute_reply": "2022-09-05T09:00:54.993767Z",
     "shell.execute_reply.started": "2022-09-05T09:00:54.993732Z"
    }
   },
   "outputs": [],
   "source": [
    "evaluate(model2)"
   ]
  },
  {
   "cell_type": "code",
   "execution_count": null,
   "metadata": {
    "execution": {
     "iopub.status.busy": "2022-09-05T09:00:54.996418Z",
     "iopub.status.idle": "2022-09-05T09:00:54.997644Z",
     "shell.execute_reply": "2022-09-05T09:00:54.997380Z",
     "shell.execute_reply.started": "2022-09-05T09:00:54.997352Z"
    }
   },
   "outputs": [],
   "source": [
    "predict_and_submit(model2, 'rf_submission.csv')"
   ]
  },
  {
   "cell_type": "code",
   "execution_count": null,
   "metadata": {
    "execution": {
     "iopub.execute_input": "2022-09-05T09:04:58.071655Z",
     "iopub.status.busy": "2022-09-05T09:04:58.070824Z"
    }
   },
   "outputs": [],
   "source": [
    "from xgboost import XGBRegressor\n",
    "model3 = XGBRegressor(random_state=42, n_jobs=-1, objective='reg:squarederror')\n",
    "model3.fit(train_inputs, train_targets)"
   ]
  },
  {
   "cell_type": "code",
   "execution_count": null,
   "metadata": {
    "execution": {
     "iopub.status.busy": "2022-09-05T09:00:55.001811Z",
     "iopub.status.idle": "2022-09-05T09:00:55.003021Z",
     "shell.execute_reply": "2022-09-05T09:00:55.002769Z",
     "shell.execute_reply.started": "2022-09-05T09:00:55.002740Z"
    }
   },
   "outputs": [],
   "source": [
    "evaluate(model3)"
   ]
  },
  {
   "cell_type": "code",
   "execution_count": null,
   "metadata": {
    "execution": {
     "iopub.status.busy": "2022-09-05T09:00:55.004497Z",
     "iopub.status.idle": "2022-09-05T09:00:55.014718Z",
     "shell.execute_reply": "2022-09-05T09:00:55.014364Z",
     "shell.execute_reply.started": "2022-09-05T09:00:55.014320Z"
    }
   },
   "outputs": [],
   "source": [
    "predict_and_submit(model3, 'xgb_submission.csv')"
   ]
  },
  {
   "cell_type": "markdown",
   "metadata": {},
   "source": [
    "## 8. Tune Hyperparmeters\n",
    "\n",
    "https://towardsdatascience.com/mastering-xgboost-2eb6bce6bc76\n",
    "\n",
    "\n",
    "We'll train parameters for the XGBoost model. Here’s a strategy for tuning hyperparameters:\n",
    "\n",
    "- Tune the most important/impactful hyperparameter first e.g. n_estimators\n",
    "\n",
    "- With the best value of the first hyperparameter, tune the next most impactful hyperparameter\n",
    "\n",
    "- And so on, keep training the next most impactful parameters with the best values for previous parameters...\n",
    "\n",
    "- Then, go back to the top and further tune each parameter again for further marginal gains\n",
    "\n",
    "- Hyperparameter tuning is more art than science, unfortunately. Try to get a feel for how the parameters interact with each other based on your understanding of the parameter…\n",
    "\n",
    "Let's define a helper function for trying different hyperparameters."
   ]
  },
  {
   "cell_type": "code",
   "execution_count": null,
   "metadata": {
    "execution": {
     "iopub.status.busy": "2022-09-05T09:00:55.016307Z",
     "iopub.status.idle": "2022-09-05T09:00:55.017652Z",
     "shell.execute_reply": "2022-09-05T09:00:55.017415Z",
     "shell.execute_reply.started": "2022-09-05T09:00:55.017386Z"
    }
   },
   "outputs": [],
   "source": [
    "import matplotlib.pyplot as plt\n",
    "\n",
    "def test_params(ModelClass, **params):\n",
    "    \"\"\"Trains a model with the given parameters and returns training & validation RMSE\"\"\"\n",
    "    model = ModelClass(**params).fit(train_inputs, train_targets)\n",
    "    train_rmse = mean_squared_error(model.predict(train_inputs), train_targets, squared=False)\n",
    "    val_rmse = mean_squared_error(model.predict(val_inputs), val_targets, squared=False)\n",
    "    return train_rmse, val_rmse\n",
    "\n",
    "def test_param_and_plot(ModelClass, param_name, param_values, **other_params):\n",
    "    \"\"\"Trains multiple models by varying the value of param_name according to param_values\"\"\"\n",
    "    train_errors, val_errors = [], [] \n",
    "    for value in param_values:\n",
    "        params = dict(other_params)\n",
    "        params[param_name] = value\n",
    "        train_rmse, val_rmse = test_params(ModelClass, **params)\n",
    "        train_errors.append(train_rmse)\n",
    "        val_errors.append(val_rmse)\n",
    "    \n",
    "    plt.figure(figsize=(10,6))\n",
    "    plt.title('Overfitting curve: ' + param_name)\n",
    "    plt.plot(param_values, train_errors, 'b-o')\n",
    "    plt.plot(param_values, val_errors, 'r-o')\n",
    "    plt.xlabel(param_name)\n",
    "    plt.ylabel('RMSE')\n",
    "    plt.legend(['Training', 'Validation'])"
   ]
  },
  {
   "cell_type": "code",
   "execution_count": null,
   "metadata": {
    "execution": {
     "iopub.status.busy": "2022-09-05T09:00:55.018719Z",
     "iopub.status.idle": "2022-09-05T09:00:55.019360Z",
     "shell.execute_reply": "2022-09-05T09:00:55.019113Z",
     "shell.execute_reply.started": "2022-09-05T09:00:55.019087Z"
    }
   },
   "outputs": [],
   "source": [
    "best_params = {\n",
    "    'random_state': 7,\n",
    "    'n_jobs': -1,\n",
    "    'objective': 'reg:squarederror'\n",
    "}"
   ]
  },
  {
   "cell_type": "code",
   "execution_count": null,
   "metadata": {},
   "outputs": [],
   "source": [
    "### No of trees\n",
    "test_param_and_plot(XGBRegressor, 'n_estimators', [100, 250, 500], **best_params)\n"
   ]
  },
  {
   "cell_type": "code",
   "execution_count": null,
   "metadata": {},
   "outputs": [],
   "source": [
    "best_params['n_estimators'] = 250"
   ]
  },
  {
   "cell_type": "code",
   "execution_count": null,
   "metadata": {},
   "outputs": [],
   "source": [
    "%%time \n",
    "#### Max Depth\n",
    "test_param_and_plot(XGBRegressor, 'max_depth', [3, 4, 5], **best_params)"
   ]
  },
  {
   "cell_type": "code",
   "execution_count": null,
   "metadata": {},
   "outputs": [],
   "source": [
    "best_params['max_depth'] = 5"
   ]
  },
  {
   "cell_type": "code",
   "execution_count": null,
   "metadata": {},
   "outputs": [],
   "source": [
    "%%time\n",
    "#### Learning Rate\n",
    "test_param_and_plot(XGBRegressor, 'learning_rate', [0.05, 0.1, 0.25], **best_params)"
   ]
  },
  {
   "cell_type": "code",
   "execution_count": null,
   "metadata": {},
   "outputs": [],
   "source": [
    "best_params['learning_rate'] = 0.25"
   ]
  },
  {
   "cell_type": "code",
   "execution_count": null,
   "metadata": {},
   "outputs": [],
   "source": [
    "# Final Model Creation\n",
    "xgb_model_final = XGBRegressor(objective='reg:squarederror', n_jobs=-1, random_state=42,\n",
    "                               n_estimators=500, max_depth=5, learning_rate=0.1, \n",
    "                               subsample=0.8, colsample_bytree=0.8)"
   ]
  },
  {
   "cell_type": "code",
   "execution_count": null,
   "metadata": {},
   "outputs": [],
   "source": [
    "%%time\n",
    "xgb_model_final.fit(train_inputs, train_targets)"
   ]
  },
  {
   "cell_type": "code",
   "execution_count": null,
   "metadata": {},
   "outputs": [],
   "source": [
    "evaluate(xgb_model_final)"
   ]
  },
  {
   "cell_type": "code",
   "execution_count": null,
   "metadata": {},
   "outputs": [],
   "source": [
    "predict_and_submit(xgb_model_final, 'xgb_tuned_submission.csv')"
   ]
  }
 ],
 "metadata": {
  "kernelspec": {
   "display_name": "Python 3 (ipykernel)",
   "language": "python",
   "name": "python3"
  },
  "language_info": {
   "codemirror_mode": {
    "name": "ipython",
    "version": 3
   },
   "file_extension": ".py",
   "mimetype": "text/x-python",
   "name": "python",
   "nbconvert_exporter": "python",
   "pygments_lexer": "ipython3",
   "version": "3.9.7"
  }
 },
 "nbformat": 4,
 "nbformat_minor": 4
}
